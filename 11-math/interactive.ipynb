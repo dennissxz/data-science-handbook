{
 "cells": [
  {
   "cell_type": "markdown",
   "metadata": {
    "toc": true
   },
   "source": [
    "<h1>Table of Contents<span class=\"tocSkip\"></span></h1>\n",
    "<div class=\"toc\"><ul class=\"toc-item\"><li><span><a href=\"#Interactive-data-visualizations\" data-toc-modified-id=\"Interactive-data-visualizations-1\"><span class=\"toc-item-num\">1&nbsp;&nbsp;</span>Interactive data visualizations</a></span><ul class=\"toc-item\"><li><span><a href=\"#Altair\" data-toc-modified-id=\"Altair-1.1\"><span class=\"toc-item-num\">1.1&nbsp;&nbsp;</span>Altair</a></span></li><li><span><a href=\"#Plotly\" data-toc-modified-id=\"Plotly-1.2\"><span class=\"toc-item-num\">1.2&nbsp;&nbsp;</span>Plotly</a></span></li><li><span><a href=\"#Bokeh\" data-toc-modified-id=\"Bokeh-1.3\"><span class=\"toc-item-num\">1.3&nbsp;&nbsp;</span>Bokeh</a></span></li><li><span><a href=\"#ipywidgets\" data-toc-modified-id=\"ipywidgets-1.4\"><span class=\"toc-item-num\">1.4&nbsp;&nbsp;</span>ipywidgets</a></span></li></ul></li></ul></div>"
   ]
  },
  {
   "cell_type": "markdown",
   "metadata": {},
   "source": [
    "# Interactive data visualizations\n",
    "\n",
    "Jupyter Notebook has support for many kinds of interactive outputs, including\n",
    "the ipywidgets ecosystem as well as many interactive visualization libraries.\n",
    "These are supported in Jupyter Book, with the right configuration.\n",
    "This page has a few common examples.\n",
    "\n",
    "First off, we'll download a little bit of data\n",
    "and show its structure:"
   ]
  },
  {
   "cell_type": "code",
   "execution_count": null,
   "metadata": {},
   "outputs": [],
   "source": [
    "import plotly.express as px\n",
    "data = px.data.iris()\n",
    "data.head()"
   ]
  },
  {
   "cell_type": "markdown",
   "metadata": {},
   "source": [
    "## Plotly\n",
    "\n",
    "Plotly is another interactive plotting library that provides a high-level API for\n",
    "visualization. See the [Plotly JupyterLab documentation](https://plotly.com/python/getting-started/#JupyterLab-Support-(Python-3.5+))\n",
    "to get started with Plotly in the notebook.\n",
    "\n",
    "```{margin}\n",
    "Plotly uses [renderers to output different kinds of information](https://plotly.com/python/renderers/)\n",
    "when you display a plot. Experiment with renderers to get the output you want.\n",
    "```\n",
    "\n",
    "Below is some example output.\n",
    "\n",
    ":::{important}\n",
    "For these plots to show, it may be necessary to load `require.js`, in your `_config.yml`:\n",
    "\n",
    "```yaml\n",
    "sphinx:\n",
    "  config:\n",
    "    html_js_files:\n",
    "    - https://cdnjs.cloudflare.com/ajax/libs/require.js/2.3.4/require.min.js\n",
    "```\n",
    ":::\n"
   ]
  },
  {
   "cell_type": "code",
   "execution_count": null,
   "metadata": {},
   "outputs": [],
   "source": [
    "import plotly.io as pio\n",
    "import plotly.express as px\n",
    "import plotly.offline as py\n",
    "\n",
    "df = px.data.iris()\n",
    "fig = px.scatter(df, x=\"sepal_width\", y=\"sepal_length\", color=\"species\", size=\"sepal_length\")\n",
    "fig"
   ]
  }
 ],
 "metadata": {
  "kernelspec": {
   "display_name": "Python 3",
   "language": "python",
   "name": "python3"
  },
  "language_info": {
   "codemirror_mode": {
    "name": "ipython",
    "version": 3
   },
   "file_extension": ".py",
   "mimetype": "text/x-python",
   "name": "python",
   "nbconvert_exporter": "python",
   "pygments_lexer": "ipython3",
   "version": "3.8.3"
  },
  "toc": {
   "base_numbering": 1,
   "nav_menu": {},
   "number_sections": true,
   "sideBar": true,
   "skip_h1_title": false,
   "title_cell": "Table of Contents",
   "title_sidebar": "",
   "toc_cell": true,
   "toc_position": {},
   "toc_section_display": true,
   "toc_window_display": true
  },
  "varInspector": {
   "cols": {
    "lenName": 16,
    "lenType": 16,
    "lenVar": 40
   },
   "kernels_config": {
    "python": {
     "delete_cmd_postfix": "",
     "delete_cmd_prefix": "del ",
     "library": "var_list.py",
     "varRefreshCmd": "print(var_dic_list())"
    },
    "r": {
     "delete_cmd_postfix": ") ",
     "delete_cmd_prefix": "rm(",
     "library": "var_list.r",
     "varRefreshCmd": "cat(var_dic_list()) "
    }
   },
   "types_to_exclude": [
    "module",
    "function",
    "builtin_function_or_method",
    "instance",
    "_Feature"
   ],
   "window_display": false
  }
 },
 "nbformat": 4,
 "nbformat_minor": 4
}
