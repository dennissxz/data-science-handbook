{
 "cells": [
  {
   "cell_type": "markdown",
   "id": "confirmed-communications",
   "metadata": {},
   "source": [
    "# Sampling\n",
    "\n",
    "In this section we introduce some some sampling methods for various problem settings. Suppose we generate a sample $\\left\\{ x_1, x_2, \\ldots, x_n \\right\\}$ from some distribution $p(x)$.\n",
    "\n",
    "If the exact functional form of $p(x)$ is unknown or hard to obtain, but we know some function $f(x)$ that is proportional to $p(x)$ up to some normalizing constant, then we can use $f(x)$ to obtain the sample. Some methods include\n",
    "- Rejection sampling\n",
    "- Markov Chain Monte Carlo\n",
    "  - Metropolis Hastings\n",
    "\n",
    "For multivariate distributions, e.g. $d=2$, if we want to generate a sample $\\left\\{ (x_1, y_1), \\ldots, (x_n, y_n) \\right\\}$ from unknown $p(x,y)$, and $f(x \\vert y )\\propto p(x\\vert y)$ and $f(y \\vert x )\\propto p(x\\vert y)$ are known, then we can use $f(x \\vert y)$ and $f(y \\vert x)$ to obtain the sample. Gibbs sampling solve this problem setting.\n",
    "\n",
    "## Monte Carlo\n",
    "\n",
    "Given a random variable $X$ with PDF $f$, sometimes we need to compute the expectation of $g(X)$:\n",
    "\n",
    "$$\n",
    "\\mathbb{E}\\left( g(X) \\right) = \\int g(d)f(x) \\mathrm{~d}x\n",
    "$$\n",
    "\n",
    "When computationally tractable, closed form expressions are not available for this purpose, and numerical integration is infeasible. For instance, Monte Carlo method generate random draws $x_1, \\ldots, x_n$ of $X$ from $f$, and compute the stochastic approximation\n",
    "\n",
    "$$\n",
    "\\widehat{\\mathbb{E}}(g(X))=\\frac{1}{n} \\sum_{i=1}^{n} g\\left(x_{i}\\right)\n",
    "$$\n",
    "\n",
    "Sometimes it is hard to generate random draws from $f$. If we can sample from $h$ where $w(x) = \\frac{f(x)}{h(x)}$, then by re-arrangement we have\n",
    "\n",
    "$$\n",
    "\\mathbb{E}(g(X))= \\frac{\\int g(x) w(x) h(x) \\mathrm{~d} x }{\\int w(x) h(x) \\mathrm{~d} x}\n",
    "$$\n",
    "\n",
    "Hence the approximation is\n",
    "\n",
    "$$\n",
    "\\widehat{\\mathbb{E}}_{h}(g(X)) = \\frac{(1 / n) \\sum_{i=1}^{n} w\\left(x_{i}\\right) g\\left(x_{i}\\right)}{(1 / n) \\sum_{i=1}^{n} w\\left(x_{i}\\right)}\n",
    "$$\n",
    "\n",
    "\n",
    "\n",
    "## Rejection Sampling\n",
    "\n",
    "## Markov Chain Monte Carlo\n",
    "\n",
    "### General Setting\n",
    "\n",
    "\n",
    "### Metropolis Hastings\n",
    "\n",
    "MH is a particular case of MCMC.\n",
    "\n",
    "## Gibbs Sampling\n",
    "\n",
    "## Others\n",
    "\n",
    "Finite Population Sampling\n",
    "\n",
    "### Poisson Sampling\n",
    "\n",
    "### Bernoulli Sampling\n",
    "\n",
    "\n",
    "\n",
    "## Exercise\n",
    "\n",
    "### Sampling from a Triangle\n",
    "\n",
    "Tags: TwoSigma, Quant, 20Q4\n",
    "\n",
    "*How to generate uniformly distributed points in a triangle in a $xy$-plane, given the coordinates of the three vertices? Suppose that you have a generator that can generate uniformly distributed random values over the interval $[0,1]$ and you can use it twice.*"
   ]
  },
  {
   "cell_type": "markdown",
   "id": "exceptional-intermediate",
   "metadata": {},
   "source": [
    "We can first start from a special case and then generalize it: what if the three coordinates are $(1,0), (0,1), (1,1)$? Call this triangle the basic triangle.\n",
    "\n",
    "We can draw a random point $(x,y)$ from the square with vertices $(0,0), (0,1), (1,1), (1,0)$, using twice the random generator. If the point is inside the basic triangle, which is identified by $x+y>1$, then we keep it, otherwise we keep its symmetric point $(1-x, 1-y)$ which is inside the basic triangle. The sampling process is implemented in the below python script."
   ]
  },
  {
   "cell_type": "code",
   "execution_count": 1,
   "id": "endless-astrology",
   "metadata": {},
   "outputs": [
    {
     "data": {
      "image/png": "[encoded data removed]",
      "text/plain": [
       "<Figure size 432x288 with 1 Axes>"
      ]
     },
     "metadata": {
      "filenames": {
       "image/png": "/home/runner/work/data-science-handbook/data-science-handbook/_build/jupyter_execute/12-probabilities/71-sampling_2_0.png"
      },
      "needs_background": "light"
     },
     "output_type": "display_data"
    }
   ],
   "source": [
    "import numpy as np\n",
    "import matplotlib.pyplot as plt\n",
    "\n",
    "def sample_basic_triangle(n):\n",
    "    points = np.random.rand(n,2)\n",
    "    inside = points[:,0] + points[:,1] > 1\n",
    "    new_points = np.where(np.tile(inside.reshape(n,1), (1,2)), points, 1-points)\n",
    "    return new_points\n",
    "\n",
    "points = sample_basic_triangle(1000)\n",
    "plt.scatter(points[:,0], points[:,1])\n",
    "plt.show()"
   ]
  },
  {
   "cell_type": "markdown",
   "id": "referenced-bleeding",
   "metadata": {},
   "source": [
    "Then we can map these uniform random points in the basic triangle to the target triangle, by an affine transformation.\n",
    "\n",
    "$$\n",
    "\\boldsymbol{y}_i = A \\boldsymbol{x}_i + \\boldsymbol{b}\n",
    "$$\n",
    "\n",
    "where for $i=1,2,3$\n",
    "\n",
    "- $\\boldsymbol{y}_i = (y_{i1}, y_{i2})$ is vertex coordinate of the target triangle\n",
    "- $\\boldsymbol{x}_i = (x_{i1}, y_{i2})$ is vertex coordinate of the basic triangle\n",
    "- $A=\\left[\\begin{array}{cc}\n",
    "a_{11} & a_{12}\\\\\n",
    "a_{21} & a_{22}\n",
    "\\end{array}\\right]$ is a matrix\n",
    "- $\\boldsymbol{b}=\\left[\\begin{array}{c}\n",
    "b_{1}\\\\\n",
    "b_{2}\n",
    "\\end{array}\\right]$ is a vector\n",
    "\n",
    "There are four unknown variables in $A$ and 2 in $\\boldsymbol{b}$, and there are six equations, so we are able to solve them. Rearranging the equations gives the standard form of a linear system"
   ]
  },
  {
   "cell_type": "markdown",
   "id": "raising-heritage",
   "metadata": {},
   "source": [
    "$$\n",
    "\\left[\\begin{array}{cccccc}\n",
    "1 & 0 & 0 & 0 & 1 & 0\\\\\n",
    "0 & 1 & 0 & 0 & 0 & 1\\\\\n",
    "1 & 1 & 0 & 0 & 1 & 0\\\\\n",
    "0 & 0 & 1 & 1 & 0 & 1\\\\\n",
    "0 & 0 & 1 & 0 & 1 & 0\\\\\n",
    "0 & 0 & 0 & 1 & 0 & 1\n",
    "\\end{array}\\right]\\left[\\begin{array}{c}\n",
    "a_{11}\\\\\n",
    "a_{12}\\\\\n",
    "a_{21}\\\\\n",
    "a_{22}\\\\\n",
    "b_{1}\\\\\n",
    "b_{2}\n",
    "\\end{array}\\right]=\\left[\\begin{array}{c}\n",
    "y_{11}\\\\\n",
    "y_{12}\\\\\n",
    "y_{21}\\\\\n",
    "y_{22}\\\\\n",
    "y_{31}\\\\\n",
    "y_{32}\n",
    "\\end{array}\\right]\n",
    "$$\n",
    "\n",
    "Below is a python script to solve for $A$ and $\\boldsymbol{b}$"
   ]
  },
  {
   "cell_type": "code",
   "execution_count": 2,
   "id": "innocent-blues",
   "metadata": {},
   "outputs": [],
   "source": [
    "from numpy.linalg import solve\n",
    "def solve_affine(y):\n",
    "    \"\"\"\n",
    "    y: shape (3,2), the vertex coordinates of the target triangle\n",
    "    \"\"\"\n",
    "\n",
    "    C = np.array([[1,0,0,0,1,0],\n",
    "                  [0,1,0,0,0,1],\n",
    "                  [1,1,0,0,1,0],\n",
    "                  [0,0,1,1,0,1],\n",
    "                  [0,0,1,0,1,0],\n",
    "                  [0,0,0,1,0,1]])\n",
    "    Ab = solve(C, y.flatten())               \n",
    "    A = Ab[:4].reshape(2, 2)\n",
    "    b = Ab[-2:]\n",
    "    return A, b\n",
    "\n",
    "y = np.random.rand(3,2)\n",
    "A, b = solve_affine(y)"
   ]
  },
  {
   "cell_type": "markdown",
   "id": "fancy-attraction",
   "metadata": {},
   "source": [
    "Finally we can write the function for the random generator."
   ]
  },
  {
   "cell_type": "code",
   "execution_count": 3,
   "id": "binary-practice",
   "metadata": {},
   "outputs": [
    {
     "data": {
      "image/png": "[encoded data removed]",
      "text/plain": [
       "<Figure size 432x288 with 1 Axes>"
      ]
     },
     "metadata": {
      "filenames": {
       "image/png": "/home/runner/work/data-science-handbook/data-science-handbook/_build/jupyter_execute/12-probabilities/71-sampling_7_0.png"
      },
      "needs_background": "light"
     },
     "output_type": "display_data"
    }
   ],
   "source": [
    "def sample_triangle(n, y):\n",
    "    \"\"\"\n",
    "    sample from a triangle with vertex coordinates (0,1), (1,1), (1,0)\n",
    "    \"\"\"\n",
    "    points = sample_basic_triangle(n)\n",
    "    A, b = solve_affine(y)\n",
    "    new_points = A @ points.T + b.reshape(2,1)\n",
    "    return new_points.T\n",
    "\n",
    "y = np.array([[3,0], [3,1], [0,1]])\n",
    "n = 1000\n",
    "points = sample_triangle(n, y)\n",
    "plt.scatter(points[:,0], points[:,1])\n",
    "plt.axis('equal')\n",
    "plt.show()\n"
   ]
  }
 ],
 "metadata": {
  "jupytext": {
   "cell_metadata_filter": "-all",
   "formats": "md:myst",
   "text_representation": {
    "extension": ".md",
    "format_name": "myst",
    "format_version": 0.12,
    "jupytext_version": "1.9.1"
   }
  },
  "kernelspec": {
   "display_name": "Python 3",
   "language": "python",
   "name": "python3"
  },
  "language_info": {
   "codemirror_mode": {
    "name": "ipython",
    "version": 3
   },
   "file_extension": ".py",
   "mimetype": "text/x-python",
   "name": "python",
   "nbconvert_exporter": "python",
   "pygments_lexer": "ipython3",
   "version": "3.7.10"
  },
  "source_map": [
   14,
   87,
   93,
   106,
   129,
   158,
   178,
   182
  ]
 },
 "nbformat": 4,
 "nbformat_minor": 5
}