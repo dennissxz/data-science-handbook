{
 "cells": [
  {
   "cell_type": "markdown",
   "id": "proud-avenue",
   "metadata": {},
   "source": [
    "# Sampling\n",
    "\n",
    "## Rejection Sampling\n",
    "\n",
    "## Finite Population Sampling\n",
    "\n",
    "### Poisson Sampling\n",
    "\n",
    "### Bernoulli Sampling"
   ]
  },
  {
   "cell_type": "markdown",
   "id": "disabled-generator",
   "metadata": {},
   "source": [
    "## Exercise\n",
    "\n",
    "### Sampling from a Triangle\n",
    "\n",
    "Tags: TwoSigma, Quant, 20Q4\n",
    "\n",
    "*How to generate uniformly distributed points in a triangle in a $xy$-plane, given the coordinates of the three vertices? Suppose that you have a generator that can generate uniformly distributed random values over the interval $[0,1]$ and you can use it twice.*"
   ]
  },
  {
   "cell_type": "markdown",
   "id": "therapeutic-tracy",
   "metadata": {},
   "source": [
    "We can first start from a special case and then generalize it: what if the three coordinates are $(1,0), (0,1), (1,1)$? Call this triangle the basic triangle.\n",
    "\n",
    "We can draw a random point $(x,y)$ from the square with vertices $(0,0), (0,1), (1,1), (1,0)$, using twice the random generator. If the point is inside the basic triangle, which is identified by $x+y>1$, then we keep it, otherwise we keep its symmetric point $(1-x, 1-y)$ which is inside the basic triangle. The sampling process is implemented in the below python script."
   ]
  },
  {
   "cell_type": "code",
   "execution_count": null,
   "id": "pressing-console",
   "metadata": {},
   "outputs": [],
   "source": [
    "import numpy as np\n",
    "import matplotlib.pyplot as plt\n",
    "\n",
    "def sample_basic_triangle(n):\n",
    "    points = np.random.rand(n,2)\n",
    "    inside = points[:,0] + points[:,1] > 1\n",
    "    new_points = np.where(np.tile(inside.reshape(n,1), (1,2)), points, 1-points)\n",
    "    return new_points\n",
    "\n",
    "points = sample_basic_triangle(1000)\n",
    "plt.scatter(points[:,0], points[:,1])\n",
    "plt.show()"
   ]
  },
  {
   "cell_type": "markdown",
   "id": "occupied-stroke",
   "metadata": {},
   "source": [
    "Then we can map these uniform random points in the basic triangle to the target triangle, by an affine transformation.\n",
    "\n",
    "$$\n",
    "\\boldsymbol{y}_i = A \\boldsymbol{x}_i + \\boldsymbol{b}\n",
    "$$\n",
    "\n",
    "where for $i=1,2,3$\n",
    "\n",
    "- $\\boldsymbol{y}_i = (y_{i1}, y_{i2})$ is vertex coordinate of the target triangle\n",
    "- $\\boldsymbol{x}_i = (x_{i1}, y_{i2})$ is vertex coordinate of the basic triangle\n",
    "- $A=\\left[\\begin{array}{cc}\n",
    "a_{11} & a_{12}\\\\\n",
    "a_{21} & a_{22}\n",
    "\\end{array}\\right]$ is a matrix\n",
    "- $\\boldsymbol{b}=\\left[\\begin{array}{c}\n",
    "b_{1}\\\\\n",
    "b_{2}\n",
    "\\end{array}\\right]$ is a vector\n",
    "\n",
    "There are four unknown variables in $A$ and 2 in $\\boldsymbol{b}$, and there are six equations, so we are able to solve them. Rearranging the equations gives the standard form of a linear system"
   ]
  },
  {
   "cell_type": "markdown",
   "id": "grave-reggae",
   "metadata": {},
   "source": [
    "$$\n",
    "\\left[\\begin{array}{cccccc}\n",
    "1 & 0 & 0 & 0 & 1 & 0\\\\\n",
    "0 & 1 & 0 & 0 & 0 & 1\\\\\n",
    "1 & 1 & 0 & 0 & 1 & 0\\\\\n",
    "0 & 0 & 1 & 1 & 0 & 1\\\\\n",
    "0 & 0 & 1 & 0 & 1 & 0\\\\\n",
    "0 & 0 & 0 & 1 & 0 & 1\n",
    "\\end{array}\\right]\\left[\\begin{array}{c}\n",
    "a_{11}\\\\\n",
    "a_{12}\\\\\n",
    "a_{21}\\\\\n",
    "a_{22}\\\\\n",
    "b_{1}\\\\\n",
    "b_{2}\n",
    "\\end{array}\\right]=\\left[\\begin{array}{c}\n",
    "y_{11}\\\\\n",
    "y_{12}\\\\\n",
    "y_{21}\\\\\n",
    "y_{22}\\\\\n",
    "y_{31}\\\\\n",
    "y_{32}\n",
    "\\end{array}\\right]\n",
    "$$\n",
    "\n",
    "Below is a python script to solve for $A$ and $\\boldsymbol{b}$"
   ]
  },
  {
   "cell_type": "code",
   "execution_count": null,
   "id": "chronic-shanghai",
   "metadata": {},
   "outputs": [],
   "source": [
    "from numpy.linalg import solve\n",
    "def solve_affine(y):\n",
    "    \"\"\"\n",
    "    y: shape (3,2), the vertex coordinates of the target triangle\n",
    "    \"\"\"\n",
    "\n",
    "    C = np.array([[1,0,0,0,1,0],\n",
    "                  [0,1,0,0,0,1],\n",
    "                  [1,1,0,0,1,0],\n",
    "                  [0,0,1,1,0,1],\n",
    "                  [0,0,1,0,1,0],\n",
    "                  [0,0,0,1,0,1]])\n",
    "    Ab = solve(C, y.flatten())               \n",
    "    A = Ab[:4].reshape(2, 2)\n",
    "    b = Ab[-2:]\n",
    "    return A, b\n",
    "\n",
    "y = np.random.rand(3,2)\n",
    "A, b = solve_affine(y)"
   ]
  },
  {
   "cell_type": "markdown",
   "id": "internal-theater",
   "metadata": {},
   "source": [
    "Finally we can write the function for the random generator."
   ]
  },
  {
   "cell_type": "code",
   "execution_count": null,
   "id": "divine-helicopter",
   "metadata": {},
   "outputs": [],
   "source": [
    "def sample_triangle(n, y):\n",
    "    \"\"\"\n",
    "    sample from a triangle with vertex coordinates (0,1), (1,1), (1,0)\n",
    "    \"\"\"\n",
    "    points = sample_basic_triangle(n)\n",
    "    A, b = solve_affine(y)\n",
    "    new_points = A @ points.T + b.reshape(2,1)\n",
    "    return new_points.T\n",
    "\n",
    "y = np.array([[3,0], [3,1], [0,1]])\n",
    "n = 1000\n",
    "points = sample_triangle(n, y)\n",
    "plt.scatter(points[:,0], points[:,1])\n",
    "plt.axis('equal')\n",
    "plt.show()\n"
   ]
  }
 ],
 "metadata": {
  "jupytext": {
   "cell_metadata_filter": "-all",
   "formats": "md:myst",
   "text_representation": {
    "extension": ".md",
    "format_name": "myst",
    "format_version": 0.12,
    "jupytext_version": "1.9.1"
   }
  },
  "kernelspec": {
   "display_name": "Python 3",
   "language": "python",
   "name": "python3"
  },
  "source_map": [
   14,
   27,
   37,
   43,
   56,
   79,
   108,
   128,
   132
  ]
 },
 "nbformat": 4,
 "nbformat_minor": 5
}