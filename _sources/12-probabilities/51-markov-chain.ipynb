{
 "cells": [
  {
   "cell_type": "markdown",
   "id": "moral-integration",
   "metadata": {},
   "source": [
    "# Markov Chain\n",
    "\n",
    "\n",
    "## Exercise\n",
    "\n",
    "### Infect 1000\n",
    "\n",
    "*There are 1,000 people in one room. One of them carries a disease which infects 100% if one shares hands with an infected person. In each minute all the people in the room are randomly paired to share hands with each other. What is your estimate of the expected number of people infected after 10 minutes? Can you use only pen and paper to solve this?*"
   ]
  },
  {
   "cell_type": "markdown",
   "id": "engaging-capitol",
   "metadata": {},
   "source": [
    "#### Sol.1 Markov Chain\n",
    "\n",
    "Let $I_t$ be the number of infected individuals after $t$ minutes. Define a transition matrix $\\boldsymbol{P}=\\left\\{ p_{i,j} \\right\\}$, where\n",
    "\n",
    "$$p_{i,j} = \\mathrm{P}(I_{t+1}=j\\vert I_t=i)$$\n",
    "\n",
    "It's easy to see that\n",
    "\n",
    "- $p_{1,2}=1$\n",
    "- $p_{2,2}=\\frac{1}{999}, p_{2,4}=\\frac{998}{999}$\n",
    "\n",
    "In general, we have, for $l=0,1,\\ldots, \\min(k, \\frac{n}{2}-k)$,\n",
    "\n",
    "$$p_{2k, 2(t+l)}= \\frac{C_{2k}^{2l} C_{n-2k}^{2l} P_{2l}^{2l} R_{2k-2l} R_{n-2k-2l}}{R_{n}}$$\n",
    "\n",
    "where\n",
    "- $C_{2k}^{2l}$ is the number of ways to select $2l$ infected individuals from the total $2k$ infected individuals, to be paired with $2l$ healthy individuals\n",
    "- $C_{n-2k}^{2l}$ is the number of ways to select $2l$ healthy individuals from the total $n-2k$ healthy individuals, to be paired with $2l$ infected individuals\n",
    "- $P_{2l}^{2l}$ is the number of ways to pair $2l$ infected individuals and $2l$ healthy individuals, such that additional $2l$ individuals are infected\n",
    "- $R_m$ is the number of ways to arrange a even number $m$ of individuals into $\\frac{m}{2}$ pairs. It's easy to find\n",
    "\n",
    "$$R_m=\\frac{C_m^2C_{m-2}^2\\ldots C_2^2 }{\\frac{m}{2}!} = \\frac{m!}{(2!)^{\\frac{m}{2}}(\\frac{m}{2}!)}$$"
   ]
  },
  {
   "cell_type": "markdown",
   "id": "caring-supervisor",
   "metadata": {},
   "source": [
    "- $R_{2k-2l}$ is the number of ways to arrange $2k-2l$ infected individuals into pairs, who do not share hands with healthy individuals\n",
    "- $R_{n-2k-2l}$ is the number of ways to arrange $n-2k-2l$ healthy individuals into pairs, who do not share hands with infected individuals and keep being healthy\n",
    "- $R_n$ is the total number of ways to arrange $n$ people into $n/2$ pairs in the room\n",
    "\n",
    "Simplification gives\n",
    "\n",
    "$$p_{2k, 2(k+l)} =\\frac{C_{n/2}^{k+l}C_{k+l}^{2l}4^l}{C_n^{2k}}$$\n",
    "\n",
    "Then the distribution of $I_{10}$ is\n",
    "\n",
    "$$\\boldsymbol{p}_{I_{10}}^\\top=\\boldsymbol{e}_1^\\top \\boldsymbol{P}^{10}$$\n",
    "\n",
    "where $\\boldsymbol{e}_1 = [1,0,\\ldots,0]$ and $\\boldsymbol{p}_{I_{10}} = [p_{1,1}^{(10)}, \\ldots, p_{1,n}^{(10)}]$\n",
    "\n",
    "The expected number is\n",
    "\n",
    "$$\\mathrm{E}(I_{10}) = [1,2,3,\\ldots, n]^\\top\\boldsymbol{p}_{I_{10}} $$\n",
    "\n",
    "A python script to implement the above steps:"
   ]
  },
  {
   "cell_type": "code",
   "execution_count": null,
   "id": "isolated-rugby",
   "metadata": {},
   "outputs": [],
   "source": [
    "import numpy as np\n",
    "import scipy.sparse as sparse\n",
    "from scipy.special import comb, perm, factorial\n",
    "\n",
    "n = 1000\n",
    "t = 10\n",
    "ks = list(range(1, 500+1))\n",
    "rows = [0, 1]\n",
    "cols = [0, 2]\n",
    "ps = [0, 1]\n",
    "for k in ks:\n",
    "    for l in range(0, int(min(k, n/2-k))+1):\n",
    "        rows.append(2 * k)\n",
    "        cols.append(2 * (k+l))\n",
    "        ps.append(comb(n/2, k+l) * comb(k+l, 2*l) * 4**l / comb(n, 2*k))\n",
    "\n",
    "P = sparse.coo_matrix((ps, (rows,cols)), shape=(n+1, n+1))\n",
    "Pt = P**t\n",
    "distribution = Pt[1, :]\n",
    "Et = sum([i * distribution.toarray()[0, i] for i in range(1, n+1)])\n",
    "print(Et)"
   ]
  },
  {
   "cell_type": "markdown",
   "id": "handed-cycle",
   "metadata": {},
   "source": [
    "#### Sol.2 Conditional Expectation\n",
    "\n",
    "Let $p_{t,j}$ be the probability that infected individual $j$ is paired with a **healthy** individual from time $t$ to $t+1$, we have\n",
    "\n",
    "$$p_{t,j} = \\frac{n-I_t} {n - 1} =: p_t$$\n",
    "\n",
    "Let $I_{t+1, j}$ be the number of individuals infected by infected individual $j$ from time $t$ to $t+1$, we have\n",
    "\n",
    "$$\n",
    "I_{t+1,j}=\\begin{cases}\n",
    "1 & p_{t}\\\\\n",
    "0 & 1-p_{t}\n",
    "\\end{cases}\n",
    "$$\n",
    "\n",
    "Hence,\n",
    "\n",
    "$$\n",
    "\\begin{align}\n",
    "\\mathrm{E}\\left( I_{t+1, j} \\right) &= p_{t} \\times 1 + (1-p_{t}) \\times 0  \\\\\n",
    "& = p_{t} \\\\\n",
    "\\end{align}\n",
    "$$\n",
    "\n",
    "Therefore, the conditional expectation of the total number of infected individuals is given by\n",
    "\n",
    "$$\n",
    "\\begin{align}\n",
    "\\mathrm{E}(I_{t+1}|I_t) & = \\mathrm{E}\\left( I_t +  \\sum_{j=1}^{I_t} I_{t+1,j} \\right)\\\\\n",
    "&= I_t + \\sum_{j=1}^{I_t} \\mathrm{E}\\left( I_{t+1, j} \\right) \\\\\n",
    "& = I_t + I_t \\times p_t \\\\\n",
    "& = I_t + I_t \\times \\frac{n-I_t}{n - 1} \\\\\n",
    "\\end{align}\n",
    "$$\n",
    "\n",
    "How to solve it?\n",
    "\n",
    "By the law of total expectation,\n",
    "\n",
    "$$\n",
    "\\begin{align}\n",
    "\\mathrm{E}(I_{t+1}) & = \\mathrm{E}\\left( \\mathrm{E}(I_{t+1}|I_t) \\right) \\\\\n",
    "& = \\mathrm{E}\\left(I_t + I_t \\times \\frac{n-I_t}{n - 1} \\right)\\\\\n",
    "& = \\frac{2n-1}{n-1}\\mathrm{E}\\left( I_t \\right) - \\frac{1}{n-1}\\mathrm{E}\\left( I_t^2 \\right)\n",
    "\\end{align}\n",
    "$$"
   ]
  },
  {
   "cell_type": "markdown",
   "id": "small-collection",
   "metadata": {},
   "source": [
    "In particular, since $\\mathrm{P}(I_1=2\\vert I_0=1)=1$, there is no randomness in $I_1$, such that\n",
    "\n",
    "$$\n",
    "\\begin{align}\n",
    "\\mathrm{E}(I_2) &= \\mathrm{E}\\left( \\mathrm{E}(I_2\\vert I_1) \\right) \\\\\n",
    "&= \\mathrm{E}\\left(I_1 + I_1 \\times \\frac{n-I_1}{n - 1}\\right)\\\\\n",
    "& = 2 + 2 \\times 998 / 999 \\\\\n",
    "& = 3994/999\n",
    "\\end{align}\n",
    "$$\n",
    "\n",
    "But when $t\\ge 3$, the computation become complicated due to the second-order term $\\mathrm{E}\\left( I_t^2 \\right)$\n",
    "\n",
    "One attempt is to approximate $\\mathrm{E}\\left( I_t^2 \\right)$ by $\\left[ \\mathrm{E}\\left( I_t \\right) \\right]^2$ such that we have a **recurrence relation**\n",
    "\n",
    "$$\\mathrm{E}\\left( I_{t+1} \\right) \\approx \\frac{2n-1}{n-1}\\mathrm{E}\\left( I_t \\right) - \\frac{1}{n-1}\\left[ \\mathrm{E}\\left( I_t \\right) \\right]^2$$\n",
    "\n",
    "Note that this will lead to a larger result since $\\mathrm{E}\\left( I_t^2 \\right) - \\left[ \\mathrm{E}\\left( I_t \\right) \\right]^2 = \\mathrm{Var}\\left( I_t \\right) \\ge 0$. But since $\\mathrm{Var}\\left( I_t \\right)$ is small, the positive error is also small."
   ]
  },
  {
   "cell_type": "markdown",
   "id": "elegant-booth",
   "metadata": {},
   "source": [
    "A python script of the iteration is"
   ]
  },
  {
   "cell_type": "code",
   "execution_count": null,
   "id": "compliant-input",
   "metadata": {},
   "outputs": [],
   "source": [
    "def f(n, t, I0=1):\n",
    "    Is = [I0] # initial number of infected\n",
    "    for _ in range(1, t+1):\n",
    "        Is.append(Is[-1] + Is[-1] * (n - Is[-1]) / (n - 1))\n",
    "\n",
    "    return Is[-1]\n",
    "\n",
    "n = 1000\n",
    "t = 10\n",
    "print(f(n, t))"
   ]
  },
  {
   "cell_type": "markdown",
   "id": "willing-roberts",
   "metadata": {},
   "source": [
    "The result $642.975$ is slightly larger than the result $642.347$ in Solution 1.\n",
    "\n",
    "If we take a closer look at the recurrence relation, dividing $2n-1$ on both sides gives\n",
    "\n",
    "$$\\frac{\\mathrm{E}\\left( I_{t+1} \\right)}{2n-1} \\approx \\frac{2n-1}{n-1} \\frac{\\mathrm{E}\\left( I_t \\right)}{2n-1} - \\frac{2n-1}{n-1}\\left[ \\frac{\\mathrm{E}\\left( I_t \\right)}{2n-1} \\right]^2$$\n",
    "\n",
    "Let $x_t = \\frac{\\mathrm{E}\\left( I_t \\right)}{2n-1}$ then it becomes\n",
    "\n",
    "$$x_{t+1} \\approx 2x_t(1-x_t)$$\n",
    "\n",
    "when $n$ is large.\n",
    "\n",
    "Given $x_0$, if the equality holds, we can solve for $x_t$ by\n",
    "\n",
    "$$x_{t} = \\frac{1}{2}\\left\\{1-\\exp \\left[2^{t} \\ln \\left(1-2 x_{0}\\right)\\right]\\right\\}$$\n",
    "\n",
    "For details, see [Logistic Map](https://mathworld.wolfram.com/LogisticMap.html)."
   ]
  },
  {
   "cell_type": "markdown",
   "id": "separated-desktop",
   "metadata": {},
   "source": [
    "#### Sol.3 Simulation\n",
    "\n",
    "To verify the solutions above, we can simulate the infection process."
   ]
  },
  {
   "cell_type": "code",
   "execution_count": null,
   "id": "appointed-island",
   "metadata": {},
   "outputs": [],
   "source": [
    "import numpy as np\n",
    "\n",
    "class Population():\n",
    "    def __init__(self, n):\n",
    "        self.size = n\n",
    "        self.infected = np.array([0]) # indexes of infected individuals\n",
    "\n",
    "    def infect(self, t=1):\n",
    "        \"\"\"\n",
    "        simulate infection for t minutes\n",
    "        \"\"\"\n",
    "        for _ in range(t):\n",
    "            perm = np.random.permutation(self.size)\n",
    "            perm_pairs = perm.reshape(n//2, 2) # random pairs\n",
    "            status = np.isin(perm, self.infected, assume_unique=True)\n",
    "            status_pairs = status.reshape(self.size//2, 2)\n",
    "            new_pairs = np.logical_xor(status_pairs[:,0], status_pairs[:,1])\n",
    "            new_boolean = ~status_pairs[new_pairs]\n",
    "            new_individuals = perm_pairs[new_pairs][new_boolean].flatten()\n",
    "            self.infected = np.hstack((self.infected, new_individuals))\n",
    "\n",
    "    def count_infected(self):\n",
    "        return len(self.infected)\n",
    "\n",
    "np.random.seed(0)\n",
    "n = 1000\n",
    "t = 10\n",
    "pop = Population(n)\n",
    "pop.infect(t=10)\n",
    "print(pop.count_infected())"
   ]
  },
  {
   "cell_type": "markdown",
   "id": "analyzed-torture",
   "metadata": {},
   "source": [
    "To get the expected number $E(I_{10})$, we can try to simulate $m$ times and take the average."
   ]
  },
  {
   "cell_type": "code",
   "execution_count": null,
   "id": "downtown-singles",
   "metadata": {},
   "outputs": [],
   "source": [
    "np.random.seed(0)\n",
    "It = []\n",
    "m = 10000\n",
    "t = 10\n",
    "for _ in range(m):\n",
    "    pop = Population(n)\n",
    "    pop.infect(t)\n",
    "    It.append(pop.count_infected())\n",
    "print(sum(It)/m)"
   ]
  },
  {
   "cell_type": "markdown",
   "id": "color-china",
   "metadata": {},
   "source": [
    "We see the simulation result $642.286$ is quite close to the result $E(I_{10}) = 642.347$ in Solution 1."
   ]
  }
 ],
 "metadata": {
  "jupytext": {
   "cell_metadata_filter": "-all",
   "formats": "md:myst",
   "text_representation": {
    "extension": ".md",
    "format_name": "myst",
    "format_version": 0.12,
    "jupytext_version": "1.9.1"
   }
  },
  "kernelspec": {
   "display_name": "Python 3",
   "language": "python",
   "name": "python3"
  },
  "source_map": [
   18,
   29,
   54,
   76,
   102,
   151,
   172,
   176,
   187,
   209,
   215,
   246,
   250,
   260
  ]
 },
 "nbformat": 4,
 "nbformat_minor": 5
}